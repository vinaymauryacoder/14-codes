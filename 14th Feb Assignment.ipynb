{
 "cells": [
  {
   "cell_type": "code",
   "execution_count": null,
   "id": "52cecea6",
   "metadata": {},
   "outputs": [],
   "source": [
    "Q1. What is multithreading in python? why is it used? Name the module used to handle threads in python"
   ]
  },
  {
   "cell_type": "code",
   "execution_count": null,
   "id": "28d9cdca",
   "metadata": {},
   "outputs": [],
   "source": [
    "Multithreading in Python is a way to achieve parallelism by dividing a program into smaller parts, each of which can run \n",
    "concurrently. Threads are lightweight and can be created easily, and they share the same memory space as the main program.\n",
    "\n",
    "Multithreading is used in Python to make a program more efficient, especially when dealing with I/O-bound\n",
    "tasks or tasks that take a lot of time to complete . \n",
    "\n",
    "Threading module is used to handle threads."
   ]
  },
  {
   "cell_type": "code",
   "execution_count": null,
   "id": "b33c6c26",
   "metadata": {},
   "outputs": [],
   "source": [
    "Q2. Why threading module used? rite the use of the following functions\n",
    "1.activeCount()\n",
    "2.currentThread()\n",
    "3. enumerate()"
   ]
  },
  {
   "cell_type": "code",
   "execution_count": null,
   "id": "5518d3f8",
   "metadata": {},
   "outputs": [],
   "source": [
    "The threading module in Python is used to create, manage and work with threads. It provides a way to run multiple threads \n",
    "concurrently in a single program, allowing for parallelism and improved performance.\n",
    "\n",
    "\n",
    "1. activeCount(): This function returns the number of currently active threads in the program. It is useful for debugging and \n",
    "    monitoring purposes, as it allows you to check how many threads are currently running.\n",
    "\n",
    "2. currentThread(): This function returns a reference to the current thread object. It is useful for getting information \n",
    "    about the current thread, such as its name, ID or state.\n",
    "\n",
    "3. enumerate(): This function returns a list of all thread objects that are currently active in the program. It is useful\n",
    "    for getting a list of all threads and iterating over them to perform some action, such as joining them or checking their\n",
    "    status."
   ]
  },
  {
   "cell_type": "code",
   "execution_count": null,
   "id": "7a20d628",
   "metadata": {},
   "outputs": [],
   "source": [
    "Q3. Explain the following functions\n",
    "1. run()\n",
    "2. start()\n",
    "3. join()\n",
    "4. isAlive()"
   ]
  },
  {
   "cell_type": "code",
   "execution_count": null,
   "id": "010cf41d",
   "metadata": {},
   "outputs": [],
   "source": [
    "run(): This method is called when a thread is started using the start() method. It is the entry point for the thread and \n",
    "    contains the code that the thread will execute.\n",
    "    \n",
    "    \n",
    "start(): This method starts the execution of a thread. It calls the run() method of the thread and runs it in a separate thread\n",
    "    of control. You can call the start() method only once per thread, otherwise it will raise a RuntimeError\n",
    "    \n",
    "join(): This method blocks the calling thread until the thread on which it is called has completed its execution. When a thread\n",
    "    is started using the start() method, it runs asynchronously with the calling thread.\n",
    "    \n",
    "isAlive(): This method returns True if the thread is currently executing, or False otherwise. It can be used to check the \n",
    "    status of a thread and determine whether it has completed its execution or is still running"
   ]
  },
  {
   "cell_type": "code",
   "execution_count": null,
   "id": "5d47aa03",
   "metadata": {},
   "outputs": [],
   "source": [
    "Q4. Write a python program to create two threads. Thread one must print the list of squares and thread\n",
    "two must print the list of cubes"
   ]
  },
  {
   "cell_type": "code",
   "execution_count": 1,
   "id": "6060f41c",
   "metadata": {},
   "outputs": [
    {
     "name": "stdout",
     "output_type": "stream",
     "text": [
      "Square of 1 is 1\n",
      "Square of 2 is 4\n",
      "Square of 3 is 9\n",
      "Square of 4 is 16\n",
      "Square of 5 is 25\n",
      "Square of 6 is 36\n",
      "Square of 7 is 49\n",
      "Square of 8 is 64\n",
      "Square of 9 is 81\n",
      "Square of 10 is 100\n",
      "Cube of 1 is 1\n",
      "Cube of 2 is 8\n",
      "Cube of 3 is 27\n",
      "Cube of 4 is 64\n",
      "Cube of 5 is 125\n",
      "Cube of 6 is 216\n",
      "Cube of 7 is 343\n",
      "Cube of 8 is 512\n",
      "Cube of 9 is 729\n",
      "Cube of 10 is 1000\n"
     ]
    }
   ],
   "source": [
    "import threading\n",
    "\n",
    "def print_squares():\n",
    "    for i in range(1, 11):\n",
    "        print(f\"Square of {i} is {i**2}\")\n",
    "\n",
    "def print_cubes():\n",
    "    for i in range(1, 11):\n",
    "        print(f\"Cube of {i} is {i**3}\")\n",
    "\n",
    "if __name__ == \"__main__\":\n",
    "    t1 = threading.Thread(target=print_squares)\n",
    "    t2 = threading.Thread(target=print_cubes)\n",
    "    t1.start()\n",
    "    t2.start()\n",
    "    t1.join()\n",
    "    t2.join()\n"
   ]
  },
  {
   "cell_type": "code",
   "execution_count": null,
   "id": "ea3981a6",
   "metadata": {},
   "outputs": [],
   "source": [
    "Q5. State advantages and disadvantages of multithreading"
   ]
  },
  {
   "cell_type": "code",
   "execution_count": null,
   "id": "76f6f6a9",
   "metadata": {},
   "outputs": [],
   "source": [
    "Advantages of multithreading:\n",
    "    Increased performance\n",
    "    Better resource utilization\n",
    "    Improved responsiveness\n",
    "    Simplified code\n",
    "Disadvantages of multithreading:\n",
    "    Increased complexity\n",
    "    Increased memory usage\n",
    "    Decreased predictability\n",
    "    Limited scalability"
   ]
  },
  {
   "cell_type": "code",
   "execution_count": null,
   "id": "70aea5b5",
   "metadata": {},
   "outputs": [],
   "source": [
    "Q6. Explain deadlocks and race conditions."
   ]
  },
  {
   "cell_type": "code",
   "execution_count": null,
   "id": "828a4971",
   "metadata": {},
   "outputs": [],
   "source": [
    "Deadlocks: A deadlock occurs when two or more threads are blocked waiting for each other to release resources that they hold.\n",
    "     Deadlocks can cause a program to become unresponsive, as the threads involved in the deadlock are unable to make progress.\n",
    "        \n",
    "Race conditions: A race condition occurs when two or more threads access a shared resource in an unpredictable order, leading\n",
    "    to unpredictable results.Race conditions can cause a program to behave incorrectly, as the results of operations depend on \n",
    "    the order in which threads access shared resources.\n",
    "    "
   ]
  },
  {
   "cell_type": "code",
   "execution_count": null,
   "id": "4a7c1ba4",
   "metadata": {},
   "outputs": [],
   "source": []
  },
  {
   "cell_type": "code",
   "execution_count": null,
   "id": "85b7328f",
   "metadata": {},
   "outputs": [],
   "source": []
  },
  {
   "cell_type": "code",
   "execution_count": null,
   "id": "c2edf767",
   "metadata": {},
   "outputs": [],
   "source": []
  }
 ],
 "metadata": {
  "kernelspec": {
   "display_name": "Python 3 (ipykernel)",
   "language": "python",
   "name": "python3"
  },
  "language_info": {
   "codemirror_mode": {
    "name": "ipython",
    "version": 3
   },
   "file_extension": ".py",
   "mimetype": "text/x-python",
   "name": "python",
   "nbconvert_exporter": "python",
   "pygments_lexer": "ipython3",
   "version": "3.9.13"
  }
 },
 "nbformat": 4,
 "nbformat_minor": 5
}
